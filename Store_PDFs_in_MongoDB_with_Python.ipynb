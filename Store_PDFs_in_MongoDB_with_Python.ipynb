{
  "cells": [
    {
      "cell_type": "markdown",
      "metadata": {
        "id": "view-in-github",
        "colab_type": "text"
      },
      "source": [
        "<a href=\"https://colab.research.google.com/github/nirupam15oct1/GRPO-First-Code/blob/main/Store_PDFs_in_MongoDB_with_Python.ipynb\" target=\"_parent\"><img src=\"https://colab.research.google.com/assets/colab-badge.svg\" alt=\"Open In Colab\"/></a>"
      ]
    },
    {
      "cell_type": "code",
      "source": [
        "import pymongo\n",
        "import os\n",
        "from bson.binary import Binary\n",
        "\n",
        "def store_pdfs_to_mongodb(folder_path, mongo_uri, database_name, collection_name):\n",
        "    \"\"\"\n",
        "    Stores PDF files from a specified folder into a MongoDB collection.\n",
        "\n",
        "    Args:\n",
        "        folder_path (str): The path to the folder containing the PDF files.\n",
        "        mongo_uri (str): The MongoDB connection URI (e.g., \"mongodb://localhost:27017/\").\n",
        "        database_name (str): The name of the MongoDB database to use.\n",
        "        collection_name (str): The name of the MongoDB collection to store the files in.\n",
        "\n",
        "    Returns:\n",
        "        None.  Prints success/error messages to the console.\n",
        "    \"\"\"\n",
        "    try:\n",
        "        # 1. Connect to MongoDB\n",
        "        client = pymongo.MongoClient(mongo_uri)\n",
        "        db = client[database_name]\n",
        "        collection = db[collection_name]\n",
        "\n",
        "        # 2. Check if the folder exists\n",
        "        if not os.path.exists(folder_path):\n",
        "            print(f\"Error: Folder not found at {folder_path}\")\n",
        "            return\n",
        "\n",
        "        # 3. Iterate through files in the folder\n",
        "        for filename in os.listdir(folder_path):\n",
        "            if filename.lower().endswith(\".pdf\"):\n",
        "                filepath = os.path.join(folder_path, filename)\n",
        "\n",
        "                try:\n",
        "                    # 4. Read the PDF file\n",
        "                    with open(filepath, \"rb\") as f:\n",
        "                        pdf_content = f.read()\n",
        "\n",
        "                    # 5. Create a document to store in MongoDB\n",
        "                    pdf_document = {\n",
        "                        \"filename\": filename,\n",
        "                        \"data\": Binary(pdf_content),  # Store the raw bytes\n",
        "                        \"file_path\": filepath  # Store the file path\n",
        "                    }\n",
        "\n",
        "                    # 6. Insert the document into the collection\n",
        "                    collection.insert_one(pdf_document)\n",
        "                    print(f\"Stored {filename} in MongoDB\")\n",
        "\n",
        "                except Exception as e:\n",
        "                    print(f\"Error processing {filename}: {e}\")\n",
        "\n",
        "        print(\"Finished processing files.\")\n",
        "\n",
        "    except pymongo.errors.ConnectionFailure as e:\n",
        "        print(f\"Error connecting to MongoDB: {e}\")\n",
        "    except Exception as e:\n",
        "        print(f\"An unexpected error occurred: {e}\")\n",
        "    finally:\n",
        "        if client: # Ensure client is defined before trying to close.\n",
        "            client.close()  # Close the connection in a finally block\n",
        "\n",
        "if __name__ == \"__main__\":\n",
        "    # Get user inputs\n",
        "    folder_path = input(\"Enter the path to the folder containing the PDF files: \")\n",
        "    mongo_uri = input(\"Enter your MongoDB connection URI (e.g., mongodb://localhost:27017/): \")\n",
        "    database_name = input(\"Enter the name of the database: \")\n",
        "    collection_name = input(\"Enter the name of the collection: \")\n",
        "\n",
        "    # Call the function to store the PDFs\n",
        "    store_pdfs_to_mongodb(folder_path, mongo_uri, database_name, collection_name)\n",
        "    print(\"Program execution completed.\") #Addded to show completion"
      ],
      "outputs": [],
      "execution_count": null,
      "metadata": {
        "id": "_myfiwiZ7L5n"
      }
    }
  ],
  "metadata": {
    "colab": {
      "provenance": [],
      "include_colab_link": true
    },
    "kernelspec": {
      "display_name": "Python 3",
      "name": "python3"
    }
  },
  "nbformat": 4,
  "nbformat_minor": 0
}